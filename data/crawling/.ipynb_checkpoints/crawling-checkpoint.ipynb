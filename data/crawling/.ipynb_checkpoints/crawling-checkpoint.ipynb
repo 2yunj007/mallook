{
 "cells": [
  {
   "cell_type": "code",
   "execution_count": null,
   "metadata": {},
   "outputs": [],
   "source": [
    "import requests\n",
    "import json"
   ]
  },
  {
   "cell_type": "code",
   "execution_count": null,
   "metadata": {},
   "outputs": [],
   "source": [
    "def get_twentyninecm_category(category1_code):\n",
    "    url = 'https://cache.29cm.co.kr/item/category/'\n",
    "    params = {\n",
    "        'category1_code': category1_code,\n",
    "        'sortBy': 'VISIT_COUNT'\n",
    "    }\n",
    "    response = requests.get(url, params=params)\n",
    "\n",
    "    try:\n",
    "        response.raise_for_status()\n",
    "        print(\"Request was successful!\")\n",
    "    except requests.exceptions.HTTPError as err:\n",
    "        print(f\"HTTP Error: {err}\")\n",
    "\n",
    "    results = response.json()\n",
    "    return results\n",
    "\n",
    "get_twentyninecm_category(268100100)"
   ]
  },
  {
   "cell_type": "code",
   "execution_count": null,
   "metadata": {},
   "outputs": [],
   "source": [
    "def get_product_list(categoryLargeCode, categoryMediumCode, categorySmallCode):\n",
    "    url = 'https://search-api.29cm.co.kr/api/v4/products/category/'\n",
    "    params = {\n",
    "        'categoryLargeCode': categoryLargeCode,\n",
    "        'categoryMediumCode': categoryMediumCode,\n",
    "        'categorySmallCode': categorySmallCode,\n",
    "        'count': 2,\n",
    "        'page': 1,\n",
    "        'sort': 'latest',\n",
    "        'init': 'T',\n",
    "        'excludeSoldOut': False,\n",
    "    }\n",
    "\n",
    "    is_get_count = False\n",
    "    while True:\n",
    "        response = requests.get(url, params=params)\n",
    "        \n",
    "        try:\n",
    "            response.raise_for_status()\n",
    "            print(\"Request was successful!\")\n",
    "        except requests.exceptions.HTTPError as err:\n",
    "            print(f\"HTTP Error: {err}\")\n",
    "    \n",
    "        results = response.json()\n",
    "\n",
    "        if is_get_count:\n",
    "            return results\n",
    "            \n",
    "        params['count'] = results.get('data', {}).get('productsTotalCount', 0)\n",
    "        is_get_count = True\n",
    "\n",
    "get_product_list(268100100, 268103100, 268103102)"
   ]
  },
  {
   "cell_type": "code",
   "execution_count": null,
   "metadata": {},
   "outputs": [],
   "source": []
  }
 ],
 "metadata": {
  "kernelspec": {
   "display_name": "Python 3 (ipykernel)",
   "language": "python",
   "name": "python3"
  },
  "language_info": {
   "codemirror_mode": {
    "name": "ipython",
    "version": 3
   },
   "file_extension": ".py",
   "mimetype": "text/x-python",
   "name": "python",
   "nbconvert_exporter": "python",
   "pygments_lexer": "ipython3",
   "version": "3.9.13"
  }
 },
 "nbformat": 4,
 "nbformat_minor": 4
}
